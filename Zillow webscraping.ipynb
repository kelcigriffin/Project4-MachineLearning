{
 "cells": [
  {
   "cell_type": "markdown",
   "metadata": {},
   "source": [
    "# Module 11 Challenge\n",
    "## Deliverable 2: Scrape and Analyze Mars Weather Data"
   ]
  },
  {
   "cell_type": "code",
   "execution_count": 17,
   "metadata": {},
   "outputs": [],
   "source": [
    "# Import relevant libraries for webscraping\n",
    "from selenium import webdriver\n",
    "from selenium.webdriver.chrome.service import Service\n",
    "from webdriver_manager.chrome import ChromeDriverManager\n",
    "from bs4 import BeautifulSoup\n",
    "from selenium.webdriver.support.select import Select\n",
    "from selenium.webdriver.common.by import By\n",
    "from selenium.webdriver.common.keys import Keys\n",
    "from selenium.webdriver.common.action_chains import ActionChains"
   ]
  },
  {
   "cell_type": "code",
   "execution_count": 18,
   "metadata": {},
   "outputs": [],
   "source": [
    "# Import relevant libraries for data analysis\n",
    "import matplotlib.pyplot as plt\n",
    "import pandas as pd\n",
    "import scipy.stats as st\n",
    "import numpy as np\n",
    "import datetime as dt"
   ]
  },
  {
   "cell_type": "code",
   "execution_count": 19,
   "metadata": {},
   "outputs": [
    {
     "name": "stdout",
     "output_type": "stream",
     "text": [
      "{'executable_path': 'C:\\\\Users\\\\kylek\\\\.wdm\\\\drivers\\\\chromedriver\\\\win64\\\\123.0.6312.122\\\\chromedriver-win32/chromedriver.exe'}\n"
     ]
    }
   ],
   "source": [
    "# Get executable path\n",
    "executable_path = {'executable_path': ChromeDriverManager().install()}\n",
    "print(executable_path)\n"
   ]
  },
  {
   "cell_type": "code",
   "execution_count": 20,
   "metadata": {},
   "outputs": [],
   "source": [
    "# set up selenium for Chrome\n",
    "\n",
    "service = Service(executable_path=executable_path['executable_path'])\n",
    "options = webdriver.ChromeOptions()\n",
    "driver = webdriver.Chrome(service=service, options=options)"
   ]
  },
  {
   "cell_type": "markdown",
   "metadata": {},
   "source": [
    "### Step 1: Visit the Website\n",
    "\n",
    "Use automated browsing to visit the [Mars Temperature Data Site](https://static.bc-edx.com/data/web/mars_facts/temperature.html). Inspect the page to identify which elements to scrape.\n",
    "\n",
    "   > **Hint** To identify which elements to scrape, you might want to inspect the page by using Chrome DevTools to discover whether the table contains usable classes.\n"
   ]
  },
  {
   "cell_type": "code",
   "execution_count": 21,
   "metadata": {},
   "outputs": [
    {
     "ename": "NoSuchWindowException",
     "evalue": "Message: no such window: target window already closed\nfrom unknown error: web view not found\n  (Session info: chrome=123.0.6312.106)\nStacktrace:\n\tGetHandleVerifier [0x00B74CA3+225091]\n\t(No symbol) [0x00AA4DF1]\n\t(No symbol) [0x00949A7A]\n\t(No symbol) [0x0092E312]\n\t(No symbol) [0x009A517B]\n\t(No symbol) [0x009B55A6]\n\t(No symbol) [0x0099F2F6]\n\t(No symbol) [0x009779B9]\n\t(No symbol) [0x0097879D]\n\tsqlite3_dbdata_init [0x00FE9A43+4064547]\n\tsqlite3_dbdata_init [0x00FF104A+4094762]\n\tsqlite3_dbdata_init [0x00FEB948+4072488]\n\tsqlite3_dbdata_init [0x00CEC9A9+930953]\n\t(No symbol) [0x00AB07C4]\n\t(No symbol) [0x00AAACE8]\n\t(No symbol) [0x00AAAE11]\n\t(No symbol) [0x00A9CA80]\n\tBaseThreadInitThunk [0x76657BA9+25]\n\tRtlInitializeExceptionChain [0x7746BE3B+107]\n\tRtlClearBits [0x7746BDBF+191]\n",
     "output_type": "error",
     "traceback": [
      "\u001b[1;31m---------------------------------------------------------------------------\u001b[0m",
      "\u001b[1;31mNoSuchWindowException\u001b[0m                     Traceback (most recent call last)",
      "Cell \u001b[1;32mIn[21], line 5\u001b[0m\n\u001b[0;32m      3\u001b[0m url \u001b[38;5;241m=\u001b[39m \u001b[38;5;124m\"\u001b[39m\u001b[38;5;124mhttps://www.zillow.com/il/sold/4_p/?searchQueryState=\u001b[39m\u001b[38;5;124m%\u001b[39m\u001b[38;5;124m7B\u001b[39m\u001b[38;5;124m%\u001b[39m\u001b[38;5;124m22pagination\u001b[39m\u001b[38;5;132;01m%22%\u001b[39;00m\u001b[38;5;124m3A\u001b[39m\u001b[38;5;124m%\u001b[39m\u001b[38;5;124m7B\u001b[39m\u001b[38;5;132;01m%22c\u001b[39;00m\u001b[38;5;124murrentPage\u001b[39m\u001b[38;5;132;01m%22%\u001b[39;00m\u001b[38;5;124m3A4\u001b[39m\u001b[38;5;124m%\u001b[39m\u001b[38;5;124m7D\u001b[39m\u001b[38;5;124m%\u001b[39m\u001b[38;5;124m2C\u001b[39m\u001b[38;5;132;01m%22i\u001b[39;00m\u001b[38;5;124msMapVisible\u001b[39m\u001b[38;5;132;01m%22%\u001b[39;00m\u001b[38;5;124m3Atrue\u001b[39m\u001b[38;5;124m%\u001b[39m\u001b[38;5;124m2C\u001b[39m\u001b[38;5;124m%\u001b[39m\u001b[38;5;124m22mapBounds\u001b[39m\u001b[38;5;132;01m%22%\u001b[39;00m\u001b[38;5;124m3A\u001b[39m\u001b[38;5;124m%\u001b[39m\u001b[38;5;124m7B\u001b[39m\u001b[38;5;124m%\u001b[39m\u001b[38;5;124m22west\u001b[39m\u001b[38;5;132;01m%22%\u001b[39;00m\u001b[38;5;124m3A-97.90176090625\u001b[39m\u001b[38;5;124m%\u001b[39m\u001b[38;5;124m2C\u001b[39m\u001b[38;5;132;01m%22e\u001b[39;00m\u001b[38;5;124mast\u001b[39m\u001b[38;5;132;01m%22%\u001b[39;00m\u001b[38;5;124m3A-80.63125309375\u001b[39m\u001b[38;5;124m%\u001b[39m\u001b[38;5;124m2C\u001b[39m\u001b[38;5;132;01m%22s\u001b[39;00m\u001b[38;5;124mouth\u001b[39m\u001b[38;5;132;01m%22%\u001b[39;00m\u001b[38;5;124m3A34.90754809494535\u001b[39m\u001b[38;5;124m%\u001b[39m\u001b[38;5;124m2C\u001b[39m\u001b[38;5;124m%\u001b[39m\u001b[38;5;124m22north\u001b[39m\u001b[38;5;132;01m%22%\u001b[39;00m\u001b[38;5;124m3A44.358412625620495\u001b[39m\u001b[38;5;124m%\u001b[39m\u001b[38;5;124m7D\u001b[39m\u001b[38;5;124m%\u001b[39m\u001b[38;5;124m2C\u001b[39m\u001b[38;5;124m%\u001b[39m\u001b[38;5;124m22mapZoom\u001b[39m\u001b[38;5;132;01m%22%\u001b[39;00m\u001b[38;5;124m3A6\u001b[39m\u001b[38;5;124m%\u001b[39m\u001b[38;5;124m2C\u001b[39m\u001b[38;5;132;01m%22r\u001b[39;00m\u001b[38;5;124megionSelection\u001b[39m\u001b[38;5;132;01m%22%\u001b[39;00m\u001b[38;5;124m3A\u001b[39m\u001b[38;5;124m%\u001b[39m\u001b[38;5;124m5B\u001b[39m\u001b[38;5;124m%\u001b[39m\u001b[38;5;124m7B\u001b[39m\u001b[38;5;132;01m%22r\u001b[39;00m\u001b[38;5;124megionId\u001b[39m\u001b[38;5;132;01m%22%\u001b[39;00m\u001b[38;5;124m3A21\u001b[39m\u001b[38;5;124m%\u001b[39m\u001b[38;5;124m2C\u001b[39m\u001b[38;5;132;01m%22r\u001b[39;00m\u001b[38;5;124megionType\u001b[39m\u001b[38;5;132;01m%22%\u001b[39;00m\u001b[38;5;124m3A2\u001b[39m\u001b[38;5;124m%\u001b[39m\u001b[38;5;124m7D\u001b[39m\u001b[38;5;124m%\u001b[39m\u001b[38;5;124m5D\u001b[39m\u001b[38;5;124m%\u001b[39m\u001b[38;5;124m2C\u001b[39m\u001b[38;5;132;01m%22f\u001b[39;00m\u001b[38;5;124milterState\u001b[39m\u001b[38;5;132;01m%22%\u001b[39;00m\u001b[38;5;124m3A\u001b[39m\u001b[38;5;124m%\u001b[39m\u001b[38;5;124m7B\u001b[39m\u001b[38;5;132;01m%22s\u001b[39;00m\u001b[38;5;124mort\u001b[39m\u001b[38;5;132;01m%22%\u001b[39;00m\u001b[38;5;124m3A\u001b[39m\u001b[38;5;124m%\u001b[39m\u001b[38;5;124m7B\u001b[39m\u001b[38;5;124m%\u001b[39m\u001b[38;5;124m22value\u001b[39m\u001b[38;5;132;01m%22%\u001b[39;00m\u001b[38;5;124m3A\u001b[39m\u001b[38;5;132;01m%22g\u001b[39;00m\u001b[38;5;124mlobalrelevanceex\u001b[39m\u001b[38;5;132;01m%22%\u001b[39;00m\u001b[38;5;124m7D\u001b[39m\u001b[38;5;124m%\u001b[39m\u001b[38;5;124m2C\u001b[39m\u001b[38;5;132;01m%22f\u001b[39;00m\u001b[38;5;124msba\u001b[39m\u001b[38;5;132;01m%22%\u001b[39;00m\u001b[38;5;124m3A\u001b[39m\u001b[38;5;124m%\u001b[39m\u001b[38;5;124m7B\u001b[39m\u001b[38;5;124m%\u001b[39m\u001b[38;5;124m22value\u001b[39m\u001b[38;5;132;01m%22%\u001b[39;00m\u001b[38;5;124m3Afalse\u001b[39m\u001b[38;5;124m%\u001b[39m\u001b[38;5;124m7D\u001b[39m\u001b[38;5;124m%\u001b[39m\u001b[38;5;124m2C\u001b[39m\u001b[38;5;132;01m%22f\u001b[39;00m\u001b[38;5;124msbo\u001b[39m\u001b[38;5;132;01m%22%\u001b[39;00m\u001b[38;5;124m3A\u001b[39m\u001b[38;5;124m%\u001b[39m\u001b[38;5;124m7B\u001b[39m\u001b[38;5;124m%\u001b[39m\u001b[38;5;124m22value\u001b[39m\u001b[38;5;132;01m%22%\u001b[39;00m\u001b[38;5;124m3Afalse\u001b[39m\u001b[38;5;124m%\u001b[39m\u001b[38;5;124m7D\u001b[39m\u001b[38;5;124m%\u001b[39m\u001b[38;5;124m2C\u001b[39m\u001b[38;5;124m%\u001b[39m\u001b[38;5;124m22nc\u001b[39m\u001b[38;5;132;01m%22%\u001b[39;00m\u001b[38;5;124m3A\u001b[39m\u001b[38;5;124m%\u001b[39m\u001b[38;5;124m7B\u001b[39m\u001b[38;5;124m%\u001b[39m\u001b[38;5;124m22value\u001b[39m\u001b[38;5;132;01m%22%\u001b[39;00m\u001b[38;5;124m3Afalse\u001b[39m\u001b[38;5;124m%\u001b[39m\u001b[38;5;124m7D\u001b[39m\u001b[38;5;124m%\u001b[39m\u001b[38;5;124m2C\u001b[39m\u001b[38;5;132;01m%22c\u001b[39;00m\u001b[38;5;124mmsn\u001b[39m\u001b[38;5;132;01m%22%\u001b[39;00m\u001b[38;5;124m3A\u001b[39m\u001b[38;5;124m%\u001b[39m\u001b[38;5;124m7B\u001b[39m\u001b[38;5;124m%\u001b[39m\u001b[38;5;124m22value\u001b[39m\u001b[38;5;132;01m%22%\u001b[39;00m\u001b[38;5;124m3Afalse\u001b[39m\u001b[38;5;124m%\u001b[39m\u001b[38;5;124m7D\u001b[39m\u001b[38;5;124m%\u001b[39m\u001b[38;5;124m2C\u001b[39m\u001b[38;5;132;01m%22a\u001b[39;00m\u001b[38;5;124muc\u001b[39m\u001b[38;5;132;01m%22%\u001b[39;00m\u001b[38;5;124m3A\u001b[39m\u001b[38;5;124m%\u001b[39m\u001b[38;5;124m7B\u001b[39m\u001b[38;5;124m%\u001b[39m\u001b[38;5;124m22value\u001b[39m\u001b[38;5;132;01m%22%\u001b[39;00m\u001b[38;5;124m3Afalse\u001b[39m\u001b[38;5;124m%\u001b[39m\u001b[38;5;124m7D\u001b[39m\u001b[38;5;124m%\u001b[39m\u001b[38;5;124m2C\u001b[39m\u001b[38;5;132;01m%22f\u001b[39;00m\u001b[38;5;124more\u001b[39m\u001b[38;5;132;01m%22%\u001b[39;00m\u001b[38;5;124m3A\u001b[39m\u001b[38;5;124m%\u001b[39m\u001b[38;5;124m7B\u001b[39m\u001b[38;5;124m%\u001b[39m\u001b[38;5;124m22value\u001b[39m\u001b[38;5;132;01m%22%\u001b[39;00m\u001b[38;5;124m3Afalse\u001b[39m\u001b[38;5;124m%\u001b[39m\u001b[38;5;124m7D\u001b[39m\u001b[38;5;124m%\u001b[39m\u001b[38;5;124m2C\u001b[39m\u001b[38;5;132;01m%22r\u001b[39;00m\u001b[38;5;124ms\u001b[39m\u001b[38;5;132;01m%22%\u001b[39;00m\u001b[38;5;124m3A\u001b[39m\u001b[38;5;124m%\u001b[39m\u001b[38;5;124m7B\u001b[39m\u001b[38;5;124m%\u001b[39m\u001b[38;5;124m22value\u001b[39m\u001b[38;5;132;01m%22%\u001b[39;00m\u001b[38;5;124m3Atrue\u001b[39m\u001b[38;5;124m%\u001b[39m\u001b[38;5;124m7D\u001b[39m\u001b[38;5;124m%\u001b[39m\u001b[38;5;124m7D\u001b[39m\u001b[38;5;124m%\u001b[39m\u001b[38;5;124m2C\u001b[39m\u001b[38;5;132;01m%22i\u001b[39;00m\u001b[38;5;124msListVisible\u001b[39m\u001b[38;5;132;01m%22%\u001b[39;00m\u001b[38;5;124m3Atrue\u001b[39m\u001b[38;5;124m%\u001b[39m\u001b[38;5;124m7D\u001b[39m\u001b[38;5;124m\"\u001b[39m\n\u001b[0;32m      4\u001b[0m driver\u001b[38;5;241m.\u001b[39mget(url)\n\u001b[1;32m----> 5\u001b[0m html \u001b[38;5;241m=\u001b[39m \u001b[43mdriver\u001b[49m\u001b[38;5;241;43m.\u001b[39;49m\u001b[43mpage_source\u001b[49m\n",
      "File \u001b[1;32m~\\anaconda3\\envs\\dev\\lib\\site-packages\\selenium\\webdriver\\remote\\webdriver.py:449\u001b[0m, in \u001b[0;36mWebDriver.page_source\u001b[1;34m(self)\u001b[0m\n\u001b[0;32m    440\u001b[0m \u001b[38;5;129m@property\u001b[39m\n\u001b[0;32m    441\u001b[0m \u001b[38;5;28;01mdef\u001b[39;00m \u001b[38;5;21mpage_source\u001b[39m(\u001b[38;5;28mself\u001b[39m) \u001b[38;5;241m-\u001b[39m\u001b[38;5;241m>\u001b[39m \u001b[38;5;28mstr\u001b[39m:\n\u001b[0;32m    442\u001b[0m \u001b[38;5;250m    \u001b[39m\u001b[38;5;124;03m\"\"\"Gets the source of the current page.\u001b[39;00m\n\u001b[0;32m    443\u001b[0m \n\u001b[0;32m    444\u001b[0m \u001b[38;5;124;03m    :Usage:\u001b[39;00m\n\u001b[1;32m   (...)\u001b[0m\n\u001b[0;32m    447\u001b[0m \u001b[38;5;124;03m            driver.page_source\u001b[39;00m\n\u001b[0;32m    448\u001b[0m \u001b[38;5;124;03m    \"\"\"\u001b[39;00m\n\u001b[1;32m--> 449\u001b[0m     \u001b[38;5;28;01mreturn\u001b[39;00m \u001b[38;5;28;43mself\u001b[39;49m\u001b[38;5;241;43m.\u001b[39;49m\u001b[43mexecute\u001b[49m\u001b[43m(\u001b[49m\u001b[43mCommand\u001b[49m\u001b[38;5;241;43m.\u001b[39;49m\u001b[43mGET_PAGE_SOURCE\u001b[49m\u001b[43m)\u001b[49m[\u001b[38;5;124m\"\u001b[39m\u001b[38;5;124mvalue\u001b[39m\u001b[38;5;124m\"\u001b[39m]\n",
      "File \u001b[1;32m~\\anaconda3\\envs\\dev\\lib\\site-packages\\selenium\\webdriver\\remote\\webdriver.py:348\u001b[0m, in \u001b[0;36mWebDriver.execute\u001b[1;34m(self, driver_command, params)\u001b[0m\n\u001b[0;32m    346\u001b[0m response \u001b[38;5;241m=\u001b[39m \u001b[38;5;28mself\u001b[39m\u001b[38;5;241m.\u001b[39mcommand_executor\u001b[38;5;241m.\u001b[39mexecute(driver_command, params)\n\u001b[0;32m    347\u001b[0m \u001b[38;5;28;01mif\u001b[39;00m response:\n\u001b[1;32m--> 348\u001b[0m     \u001b[38;5;28;43mself\u001b[39;49m\u001b[38;5;241;43m.\u001b[39;49m\u001b[43merror_handler\u001b[49m\u001b[38;5;241;43m.\u001b[39;49m\u001b[43mcheck_response\u001b[49m\u001b[43m(\u001b[49m\u001b[43mresponse\u001b[49m\u001b[43m)\u001b[49m\n\u001b[0;32m    349\u001b[0m     response[\u001b[38;5;124m\"\u001b[39m\u001b[38;5;124mvalue\u001b[39m\u001b[38;5;124m\"\u001b[39m] \u001b[38;5;241m=\u001b[39m \u001b[38;5;28mself\u001b[39m\u001b[38;5;241m.\u001b[39m_unwrap_value(response\u001b[38;5;241m.\u001b[39mget(\u001b[38;5;124m\"\u001b[39m\u001b[38;5;124mvalue\u001b[39m\u001b[38;5;124m\"\u001b[39m, \u001b[38;5;28;01mNone\u001b[39;00m))\n\u001b[0;32m    350\u001b[0m     \u001b[38;5;28;01mreturn\u001b[39;00m response\n",
      "File \u001b[1;32m~\\anaconda3\\envs\\dev\\lib\\site-packages\\selenium\\webdriver\\remote\\errorhandler.py:229\u001b[0m, in \u001b[0;36mErrorHandler.check_response\u001b[1;34m(self, response)\u001b[0m\n\u001b[0;32m    227\u001b[0m         alert_text \u001b[38;5;241m=\u001b[39m value[\u001b[38;5;124m\"\u001b[39m\u001b[38;5;124malert\u001b[39m\u001b[38;5;124m\"\u001b[39m]\u001b[38;5;241m.\u001b[39mget(\u001b[38;5;124m\"\u001b[39m\u001b[38;5;124mtext\u001b[39m\u001b[38;5;124m\"\u001b[39m)\n\u001b[0;32m    228\u001b[0m     \u001b[38;5;28;01mraise\u001b[39;00m exception_class(message, screen, stacktrace, alert_text)  \u001b[38;5;66;03m# type: ignore[call-arg]  # mypy is not smart enough here\u001b[39;00m\n\u001b[1;32m--> 229\u001b[0m \u001b[38;5;28;01mraise\u001b[39;00m exception_class(message, screen, stacktrace)\n",
      "\u001b[1;31mNoSuchWindowException\u001b[0m: Message: no such window: target window already closed\nfrom unknown error: web view not found\n  (Session info: chrome=123.0.6312.106)\nStacktrace:\n\tGetHandleVerifier [0x00B74CA3+225091]\n\t(No symbol) [0x00AA4DF1]\n\t(No symbol) [0x00949A7A]\n\t(No symbol) [0x0092E312]\n\t(No symbol) [0x009A517B]\n\t(No symbol) [0x009B55A6]\n\t(No symbol) [0x0099F2F6]\n\t(No symbol) [0x009779B9]\n\t(No symbol) [0x0097879D]\n\tsqlite3_dbdata_init [0x00FE9A43+4064547]\n\tsqlite3_dbdata_init [0x00FF104A+4094762]\n\tsqlite3_dbdata_init [0x00FEB948+4072488]\n\tsqlite3_dbdata_init [0x00CEC9A9+930953]\n\t(No symbol) [0x00AB07C4]\n\t(No symbol) [0x00AAACE8]\n\t(No symbol) [0x00AAAE11]\n\t(No symbol) [0x00A9CA80]\n\tBaseThreadInitThunk [0x76657BA9+25]\n\tRtlInitializeExceptionChain [0x7746BE3B+107]\n\tRtlClearBits [0x7746BDBF+191]\n"
     ]
    }
   ],
   "source": [
    "# Visit the website\n",
    "url = \"https://www.zillow.com/chicago-il/sold/?searchQueryState=%7B%22isMapVisible%22%3Atrue%2C%22mapBounds%22%3A%7B%22north%22%3A42.119870123529815%2C%22south%22%3A41.54687191063841%2C%22east%22%3A-87.19223863085938%2C%22west%22%3A-88.27164536914063%7D%2C%22filterState%22%3A%7B%22sort%22%3A%7B%22value%22%3A%22globalrelevanceex%22%7D%2C%22fsba%22%3A%7B%22value%22%3Afalse%7D%2C%22fsbo%22%3A%7B%22value%22%3Afalse%7D%2C%22nc%22%3A%7B%22value%22%3Afalse%7D%2C%22cmsn%22%3A%7B%22value%22%3Afalse%7D%2C%22auc%22%3A%7B%22value%22%3Afalse%7D%2C%22fore%22%3A%7B%22value%22%3Afalse%7D%2C%22rs%22%3A%7B%22value%22%3Atrue%7D%7D%2C%22isListVisible%22%3Atrue%2C%22regionSelection%22%3A%5B%7B%22regionId%22%3A17426%2C%22regionType%22%3A6%7D%5D%2C%22pagination%22%3A%7B%7D%7D\"\n",
    "driver.get(url)\n",
    "html = driver.page_source"
   ]
  },
  {
   "cell_type": "markdown",
   "metadata": {},
   "source": [
    "### Step 2: Scrape the Table\n",
    "\n",
    "Create a Beautiful Soup object and use it to scrape the data in the HTML table.\n",
    "\n",
    "Note that this can also be achieved by using the Pandas `read_html` function. However, use Beautiful Soup here to continue sharpening your web scraping skills."
   ]
  },
  {
   "cell_type": "code",
   "execution_count": 6,
   "metadata": {},
   "outputs": [],
   "source": [
    "# Create a Beautiful Soup Object\n",
    "soup = BeautifulSoup(html, 'html.parser')"
   ]
  },
  {
   "cell_type": "code",
   "execution_count": null,
   "metadata": {},
   "outputs": [],
   "source": [
    "# Create empty lists\n",
    "beds = []\n",
    "baths = []\n",
    "sqft = []\n",
    "prices = []\n",
    "addresses = []\n",
    "\n",
    "for g in range(1, 10):\n",
    "    \n",
    "    # Get the prices\n",
    "    price = soup.find_all(class_='PropertyCardWrapper__StyledPriceLine-srp-8-100-4__sc-16e8gqd-1 dNnIRL')\n",
    "    for a in price:\n",
    "        price_data_text = a.text\n",
    "        prices.append(price_data_text)\n",
    "    \n",
    "    house_stats = soup.find_all(class_='StyledPropertyCardHomeDetailsList-c11n-8-100-4__sc-1j0som5-0 dPkwmL')\n",
    "    data_house = []\n",
    "    for b in house_stats:\n",
    " \n",
    "        data_texts = b.find_all('b')\n",
    "        data_house.append(data_texts)\n",
    "\n",
    "    for c in data_house:\n",
    "        innerlist = c\n",
    "        bed_cleaned = innerlist[0].text\n",
    "        bath_cleaned = innerlist[1].text\n",
    "        sqft_cleaned = innerlist[2].text\n",
    "        beds.append(bed_cleaned)\n",
    "        baths.append(bath_cleaned)\n",
    "        sqft.append(sqft_cleaned)\n",
    "        \n",
    "    address = soup.find_all(class_='StyledPropertyCardDataArea-c11n-8-100-4__sc-10i1r6-0 dKKiyn property-card-link')\n",
    "    for d in address:\n",
    "        address_text = d.text\n",
    "        addresses.append(address_text)\n",
    "        \n",
    "    next_button = driver.find_element(By.XPATH, '//*[@id=\"grid-search-results\"]/div[2]/nav/ul/li[10]/a')\n",
    "    next_button.click()\n",
    "    print(g)"
   ]
  },
  {
   "cell_type": "code",
   "execution_count": null,
   "metadata": {},
   "outputs": [],
   "source": [
    "print(prices)"
   ]
  },
  {
   "cell_type": "code",
   "execution_count": null,
   "metadata": {},
   "outputs": [],
   "source": [
    "# Click the button\n",
    "next_button = driver.find_element(By.XPATH, '//*[@id=\"grid-search-results\"]/div[2]/nav/ul/li[10]/a')\n",
    "next_button.click()"
   ]
  },
  {
   "cell_type": "code",
   "execution_count": null,
   "metadata": {
    "scrolled": true
   },
   "outputs": [],
   "source": [
    "# Scrape each row of data and store in list\n",
    "# Find each row of the table\n",
    "price = soup.find_all(class_='PropertyCardWrapper__StyledPriceLine-srp-8-100-4__sc-16e8gqd-1 dNnIRL')\n",
    "print(price)"
   ]
  },
  {
   "cell_type": "code",
   "execution_count": null,
   "metadata": {},
   "outputs": [],
   "source": [
    "prices = []\n",
    "for x in price:\n",
    "    data_text = x.text\n",
    "    prices.append(data_text)\n",
    "print(prices)\n",
    "        "
   ]
  },
  {
   "cell_type": "code",
   "execution_count": null,
   "metadata": {},
   "outputs": [],
   "source": [
    "sqdata = soup.find_all(class_='StyledPropertyCardHomeDetailsList-c11n-8-100-4__sc-1j0som5-0 dPkwmL')\n",
    "print(sqdata)\n"
   ]
  },
  {
   "cell_type": "code",
   "execution_count": null,
   "metadata": {},
   "outputs": [],
   "source": [
    "datalol = []\n",
    "for x in sqdata:\n",
    "#     data_texts = x.text\n",
    "    data_texts = x.find_all('b')\n",
    "    datalol.append(data_texts)\n",
    "print(datalol)\n",
    "        "
   ]
  },
  {
   "cell_type": "code",
   "execution_count": null,
   "metadata": {},
   "outputs": [],
   "source": [
    "beds = []\n",
    "baths = []\n",
    "sqft = []\n",
    "for x in datalol:\n",
    "    innerlist = x\n",
    "    bed_cleaned = innerlist[0].text\n",
    "    bath_cleaned = innerlist[1].text\n",
    "    sqft_cleaned = innerlist[2].text\n",
    "    beds.append(bed_cleaned)\n",
    "    baths.append(bath_cleaned)\n",
    "    sqft.append(sqft_cleaned)\n",
    "\n",
    "print(sqft)"
   ]
  },
  {
   "cell_type": "code",
   "execution_count": null,
   "metadata": {},
   "outputs": [],
   "source": [
    "address = soup.find_all(class_='StyledPropertyCardDataArea-c11n-8-100-4__sc-10i1r6-0 dKKiyn property-card-link')\n",
    "print(address)"
   ]
  },
  {
   "cell_type": "code",
   "execution_count": null,
   "metadata": {},
   "outputs": [],
   "source": [
    "addresses = []\n",
    "for x in address:\n",
    "    data_text = x.text\n",
    "    addresses.append(data_text)\n",
    "print(addresses)\n",
    "        "
   ]
  },
  {
   "cell_type": "code",
   "execution_count": null,
   "metadata": {
    "scrolled": true
   },
   "outputs": [],
   "source": [
    "# Creating dataframe from the scraped data\n",
    "houses_df = pd.DataFrame({\n",
    "    \"Sold Price ($)\": prices,\n",
    "    \"Bedrooms\": beds,\n",
    "    \"Baths\": baths,\n",
    "    \"Square Feet\": sqft,\n",
    "    \"One Line Address\": addresses,\n",
    "   \n",
    "}) \n",
    "\n",
    "# Removing the dollar signs from the sold price and separating the address into root componants\n",
    "\n",
    "houses_df[['Street Address', 'City','StateZip']] = houses_df['One Line Address'].str.split(',', expand=True)\n",
    "houses_df['StateZip'] = houses_df['StateZip'].str.strip()\n",
    "houses_df[['State', 'Zipcode']] = houses_df['StateZip'].str.split(' ', expand=True)\n",
    "houses_df = houses_df.drop('StateZip', axis='columns')\n",
    "\n",
    "houses_df.head()"
   ]
  },
  {
   "cell_type": "code",
   "execution_count": null,
   "metadata": {},
   "outputs": [],
   "source": [
    "# Changing datatypes\n",
    "houses_cleaned_df = houses_df\n",
    "houses_cleaned_df['Sold Price ($)'] = houses_cleaned_df['Sold Price ($)'].str.replace('$', '')\n",
    "houses_cleaned_df['Sold Price ($)'] = houses_cleaned_df['Sold Price ($)'].str.replace(',', '')\n",
    "houses_cleaned_df['Square Feet'] = houses_cleaned_df['Square Feet'].str.replace(',', '')\n",
    "houses_cleaned_df['Sold Price ($)'] = houses_cleaned_df['Sold Price ($)'].astype(int)\n",
    "houses_cleaned_df['Square Feet'] = houses_cleaned_df['Square Feet'].astype(int)\n",
    "houses_cleaned_df['Zipcode'] = houses_cleaned_df['Zipcode'].astype(int)\n",
    "houses_cleaned_df.head()"
   ]
  },
  {
   "cell_type": "markdown",
   "metadata": {},
   "source": [
    "### Step 6: Save the Data\n",
    "\n",
    "Export the DataFrame to a CSV file."
   ]
  },
  {
   "cell_type": "code",
   "execution_count": null,
   "metadata": {},
   "outputs": [],
   "source": [
    "# Write the data to a CSV\n",
    "# houses_cleaned_df.to_csv(\"Output/houses.csv\", index=False, header=True)"
   ]
  },
  {
   "cell_type": "code",
   "execution_count": null,
   "metadata": {},
   "outputs": [],
   "source": [
    "# Close the browser\n",
    "driver.quit()"
   ]
  },
  {
   "cell_type": "code",
   "execution_count": null,
   "metadata": {},
   "outputs": [],
   "source": []
  }
 ],
 "metadata": {
  "kernelspec": {
   "display_name": "Python 3 (ipykernel)",
   "language": "python",
   "name": "python3"
  },
  "language_info": {
   "codemirror_mode": {
    "name": "ipython",
    "version": 3
   },
   "file_extension": ".py",
   "mimetype": "text/x-python",
   "name": "python",
   "nbconvert_exporter": "python",
   "pygments_lexer": "ipython3",
   "version": "3.10.13"
  },
  "vscode": {
   "interpreter": {
    "hash": "31f2aee4e71d21fbe5cf8b01ff0e069b9275f58929596ceb00d14d90e3e16cd6"
   }
  }
 },
 "nbformat": 4,
 "nbformat_minor": 4
}
