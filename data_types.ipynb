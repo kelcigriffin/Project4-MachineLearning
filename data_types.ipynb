{
 "cells": [
  {
   "cell_type": "code",
   "execution_count": 1,
   "metadata": {},
   "outputs": [],
   "source": [
    "# Dependencies and Setup\n",
    "import matplotlib.pyplot as plt\n",
    "import pandas as pd\n",
    "import scipy.stats as st\n",
    "import numpy as np\n",
    "\n",
    "from IPython.core.interactiveshell import InteractiveShell\n",
    "InteractiveShell.ast_node_interactivity = \"all\""
   ]
  },
  {
   "cell_type": "code",
   "execution_count": 2,
   "metadata": {},
   "outputs": [],
   "source": [
    "merged_df = r\"C:\\Users\\conne\\OneDrive\\Desktop\\Project 4\\Project4-MachineLearning\\df_joined_data.csv\""
   ]
  },
  {
   "cell_type": "code",
   "execution_count": 14,
   "metadata": {},
   "outputs": [
    {
     "name": "stderr",
     "output_type": "stream",
     "text": [
      "C:\\Users\\conne\\AppData\\Local\\Temp\\ipykernel_5804\\937368314.py:1: DtypeWarning: Columns (79) have mixed types. Specify dtype option on import or set low_memory=False.\n",
      "  df = pd.read_csv(merged_df)\n"
     ]
    }
   ],
   "source": [
    "df = pd.read_csv(merged_df)"
   ]
  },
  {
   "cell_type": "code",
   "execution_count": 15,
   "metadata": {},
   "outputs": [
    {
     "name": "stdout",
     "output_type": "stream",
     "text": [
      "Unnamed: 0                      int64\n",
      "pin                             int64\n",
      "Property Class                  int64\n",
      "Neighborhood Code               int64\n",
      "Land Square Feet              float64\n",
      "                               ...   \n",
      "nearest_water_name             object\n",
      "nearest_water_dist_ft         float64\n",
      "nearest_neighbor_1_dist_ft    float64\n",
      "nearest_neighbor_2_dist_ft    float64\n",
      "nearest_neighbor_3_dist_ft    float64\n",
      "Length: 124, dtype: object\n"
     ]
    }
   ],
   "source": [
    "print(df.dtypes)"
   ]
  },
  {
   "cell_type": "code",
   "execution_count": 16,
   "metadata": {},
   "outputs": [
    {
     "data": {
      "text/plain": [
       "<bound method NDFrame.describe of         Unnamed: 0             pin  Property Class  Neighborhood Code  \\\n",
       "0                0  20264140050000             211                 70   \n",
       "1                1  20143100350000             207                 70   \n",
       "2                2  25221150220000             202                210   \n",
       "3                3  25033000760000             210                111   \n",
       "4                4  26174070030000             203                240   \n",
       "...            ...             ...             ...                ...   \n",
       "212400      212400  16121020080000             211                101   \n",
       "212401      212401  17172120161351             299                131   \n",
       "212402      212402  17082240081014             299                120   \n",
       "212403      212403  13251310220000             211                150   \n",
       "212404      212404  17193040270000             203                141   \n",
       "\n",
       "        Land Square Feet  Town Code  Type of Residence  Apartments  \\\n",
       "0                 4687.0         70                2.0         0.0   \n",
       "1                 2790.0         70                2.0         0.0   \n",
       "2                 4000.0         70                1.0         0.0   \n",
       "3                 2700.0         70                2.0         0.0   \n",
       "4                 4312.0         70                5.0         0.0   \n",
       "...                  ...        ...                ...         ...   \n",
       "212400            3175.0         77                2.0         2.0   \n",
       "212401           38130.0         77                NaN         NaN   \n",
       "212402            7136.0         77                NaN         NaN   \n",
       "212403            3018.0         77                3.0         3.0   \n",
       "212404            2976.0         77                1.0         0.0   \n",
       "\n",
       "        Wall Material  Roof Material  ...  lake_michigan_data_year  \\\n",
       "0                 2.0            1.0  ...                   2022.0   \n",
       "1                 1.0            1.0  ...                   2022.0   \n",
       "2                 1.0            1.0  ...                      NaN   \n",
       "3                 2.0            1.0  ...                   2016.0   \n",
       "4                 2.0            1.0  ...                      NaN   \n",
       "...               ...            ...  ...                      ...   \n",
       "212400            2.0            2.0  ...                   2019.0   \n",
       "212401            NaN            NaN  ...                      NaN   \n",
       "212402            NaN            NaN  ...                      NaN   \n",
       "212403            2.0            2.0  ...                      NaN   \n",
       "212404            1.0            1.0  ...                      NaN   \n",
       "\n",
       "        nearest_major_road_dist_ft  nearest_metra_stop_dist_ft  \\\n",
       "0                       764.136594                 1935.453861   \n",
       "1                      4188.862414                 2896.061077   \n",
       "2                              NaN                         NaN   \n",
       "3                              NaN                 5712.006728   \n",
       "4                              NaN                         NaN   \n",
       "...                            ...                         ...   \n",
       "212400                         NaN                 1663.550266   \n",
       "212401                         NaN                         NaN   \n",
       "212402                         NaN                         NaN   \n",
       "212403                         NaN                         NaN   \n",
       "212404                         NaN                         NaN   \n",
       "\n",
       "        nearest_park_dist_ft  nearest_railroad_dist_ft  nearest_water_name  \\\n",
       "0                2132.176749               1055.883106        South Lagoon   \n",
       "1                 886.525144               1745.812282                 NaN   \n",
       "2                        NaN                       NaN                 NaN   \n",
       "3                        NaN                       NaN                 NaN   \n",
       "4                        NaN                       NaN                 NaN   \n",
       "...                      ...                       ...                 ...   \n",
       "212400                   NaN                       NaN                 NaN   \n",
       "212401                   NaN                       NaN                 NaN   \n",
       "212402                   NaN                       NaN                 NaN   \n",
       "212403                   NaN                       NaN                 NaN   \n",
       "212404                   NaN                       NaN                 NaN   \n",
       "\n",
       "        nearest_water_dist_ft  nearest_neighbor_1_dist_ft  \\\n",
       "0                 7762.535182                   35.427683   \n",
       "1                 2559.083259                   43.383443   \n",
       "2                         NaN                         NaN   \n",
       "3                 9265.784793                   30.013366   \n",
       "4                         NaN                   34.492083   \n",
       "...                       ...                         ...   \n",
       "212400            3842.508220                   25.004712   \n",
       "212401                    NaN                  132.585415   \n",
       "212402                    NaN                   70.440016   \n",
       "212403                    NaN                   37.086735   \n",
       "212404            5058.506892                   24.003443   \n",
       "\n",
       "        nearest_neighbor_2_dist_ft  nearest_neighbor_3_dist_ft  \n",
       "0                        37.501601                   68.738677  \n",
       "1                        76.822828                   82.441660  \n",
       "2                              NaN                         NaN  \n",
       "3                        31.806947                   60.028247  \n",
       "4                        34.810349                   68.982910  \n",
       "...                            ...                         ...  \n",
       "212400                   37.491853                   50.010324  \n",
       "212401                  155.464516                  160.264510  \n",
       "212402                   78.833218                  107.208034  \n",
       "212403                   74.702324                   82.574120  \n",
       "212404                   24.004172                   47.993710  \n",
       "\n",
       "[212405 rows x 124 columns]>"
      ]
     },
     "execution_count": 16,
     "metadata": {},
     "output_type": "execute_result"
    }
   ],
   "source": [
    "df.describe"
   ]
  },
  {
   "cell_type": "code",
   "execution_count": 20,
   "metadata": {},
   "outputs": [],
   "source": [
    "dtypes_df = df.dtypes.reset_index()\n",
    "dtypes_df.columns = ['Column', 'DataType']\n",
    "dtypes_df.to_csv('data_types.csv', index=False)"
   ]
  }
 ],
 "metadata": {
  "kernelspec": {
   "display_name": "Python 3",
   "language": "python",
   "name": "python3"
  },
  "language_info": {
   "codemirror_mode": {
    "name": "ipython",
    "version": 3
   },
   "file_extension": ".py",
   "mimetype": "text/x-python",
   "name": "python",
   "nbconvert_exporter": "python",
   "pygments_lexer": "ipython3",
   "version": "3.10.13"
  }
 },
 "nbformat": 4,
 "nbformat_minor": 2
}
